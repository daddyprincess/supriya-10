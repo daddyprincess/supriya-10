{
 "cells": [
  {
   "cell_type": "markdown",
   "id": "f4fe16e9-7691-4b9a-bee4-e49aeb3d6af0",
   "metadata": {},
   "source": [
    "## 1. multiprocessing"
   ]
  },
  {
   "cell_type": "code",
   "execution_count": null,
   "id": "e5c286a3-2d0e-48d0-ae00-a952ca8aa776",
   "metadata": {},
   "outputs": [],
   "source": [
    "Multiprocessing in Python is a built-in package that allows the system to run multiple processes simultaneously. It will\n",
    "enable the breaking of applications into smallerthreads that can run independently"
   ]
  },
  {
   "cell_type": "markdown",
   "id": "a0448dc8-32d5-4dc0-a2a8-3295383e6df9",
   "metadata": {},
   "source": [
    "### use"
   ]
  },
  {
   "cell_type": "code",
   "execution_count": null,
   "id": "46393170-ccc3-42ea-95b2-dc355fc225ee",
   "metadata": {},
   "outputs": [],
   "source": [
    "Multithreading allows the programmer to divide application tasks into sub-tasks and simultaneously run them in a program.\n",
    "It allows threads to communicate andshare resources such as files, data, and memory to the same processor. "
   ]
  },
  {
   "cell_type": "markdown",
   "id": "a91e9820-0435-4275-a9ca-5495fcb6bfc5",
   "metadata": {},
   "source": [
    "## 2. difference between multiprocessing and multithreading"
   ]
  },
  {
   "cell_type": "markdown",
   "id": "7d79ccff-5d20-4ba0-a4c8-f01c332d5948",
   "metadata": {},
   "source": [
    "### multithreading"
   ]
  },
  {
   "cell_type": "code",
   "execution_count": null,
   "id": "2088b7f0-abee-4511-8268-68891e704219",
   "metadata": {},
   "outputs": [],
   "source": [
    "-Running multiple threads within a single task.\n",
    "-Resources (CPU, memory) are shared among threads.\n",
    "-Uses priority-based or time-slicing scheduling to allocate CPU time to threads,\n",
    "-Threads share memory space within a task.\n",
    "-Requires a context switch to switch between threads.\n",
    "-Uses thread synchronization mechanisms (e.g., locks, semaphores) for IPC\t"
   ]
  },
  {
   "cell_type": "markdown",
   "id": "c3627d94-28a5-49bf-81a9-962591f91f5d",
   "metadata": {},
   "source": [
    "### multiprocessing"
   ]
  },
  {
   "cell_type": "code",
   "execution_count": null,
   "id": "31702da5-8712-430d-a125-f8dcb7b32230",
   "metadata": {},
   "outputs": [],
   "source": [
    "-Running multiple processes on multiple CPUs.\n",
    "-Each process has its own set of resources.\n",
    "-Each process can have its own scheduling algorithm.\n",
    "-Each process has its own memory space.\n",
    "-Requires a context switch to switch between processes.\n",
    "-Uses inter-process communication mechanisms (e.g., pipes, sockets) for IPC"
   ]
  },
  {
   "cell_type": "markdown",
   "id": "ae9c0dd9-6070-40b4-bb08-0126953e97f0",
   "metadata": {},
   "source": [
    "## 3.multiprocessing module"
   ]
  },
  {
   "cell_type": "code",
   "execution_count": 2,
   "id": "9e51c2d6-d2a4-46b2-a4fc-ef84254d490b",
   "metadata": {},
   "outputs": [
    {
     "name": "stdout",
     "output_type": "stream",
     "text": [
      "Square: 100\n",
      "Cube: 1000\n",
      "Done!\n"
     ]
    }
   ],
   "source": [
    "# importing the multiprocessing module\n",
    "import multiprocessing\n",
    "\n",
    "def print_cube(num):\n",
    "\t\"\"\"\n",
    "\tfunction to print cube of given num\n",
    "\t\"\"\"\n",
    "\tprint(\"Cube: {}\".format(num * num * num))\n",
    "\n",
    "def print_square(num):\n",
    "\t\"\"\"\n",
    "\tfunction to print square of given num\n",
    "\t\"\"\"\n",
    "\tprint(\"Square: {}\".format(num * num))\n",
    "\n",
    "if __name__ == \"__main__\":\n",
    "\t# creating processes\n",
    "\tp1 = multiprocessing.Process(target=print_square, args=(10, ))\n",
    "\tp2 = multiprocessing.Process(target=print_cube, args=(10, ))\n",
    "\n",
    "\t# starting process 1\n",
    "\tp1.start()\n",
    "\t# starting process 2\n",
    "\tp2.start()\n",
    "\n",
    "\t# wait until process 1 is finished\n",
    "\tp1.join()\n",
    "\t# wait until process 2 is finished\n",
    "\tp2.join()\n",
    "\n",
    "\t# both processes finished\n",
    "\tprint(\"Done!\")"
   ]
  },
  {
   "cell_type": "markdown",
   "id": "94ac276a-b79a-4b52-8c50-66d188d6cee6",
   "metadata": {},
   "source": [
    "## 4.multiprocessing pool"
   ]
  },
  {
   "cell_type": "code",
   "execution_count": null,
   "id": "b7cc716d-5f7f-46b0-bd58-a1217caf536f",
   "metadata": {},
   "outputs": [],
   "source": [
    "A process pool object which controls a pool of worker processes to which jobs can be submitted. It supports asynchronous\n",
    "results with timeouts and callbacks and has a parallel map implementation."
   ]
  },
  {
   "cell_type": "markdown",
   "id": "67250386-eb02-4dbc-815b-8c91dfc335e8",
   "metadata": {},
   "source": [
    "### use"
   ]
  },
  {
   "cell_type": "code",
   "execution_count": null,
   "id": "d0c1dc42-d39a-4282-a7e2-10330d4bb1c2",
   "metadata": {},
   "outputs": [],
   "source": [
    "The Pool class in multiprocessing can handle an enormous number of processes. It allows you to run multiple jobs per \n",
    "process (due to its ability to queue the jobs). The memory is allocated only to the executing processes, unlike the \n",
    "Process class, which allocates memory to all the processes."
   ]
  },
  {
   "cell_type": "markdown",
   "id": "24a107db-bbb5-4061-bc75-58b955078193",
   "metadata": {},
   "source": [
    "## 5.multiprocessing module"
   ]
  },
  {
   "cell_type": "code",
   "execution_count": 4,
   "id": "f11ba00e-f69d-410d-8009-dc012a9ef732",
   "metadata": {},
   "outputs": [
    {
     "name": "stdout",
     "output_type": "stream",
     "text": [
      "<multiprocessing.pool.Pool state=RUN pool_size=64>\n",
      "64\n",
      "64\n"
     ]
    }
   ],
   "source": [
    "# SuperFastPython.com\n",
    "# example of setting the default number of workers in the process pool\n",
    "from multiprocessing.pool import Pool\n",
    "from multiprocessing import active_children\n",
    " \n",
    "# protect the entry point\n",
    "if __name__ == '__main__':\n",
    "    # create a process pool with the default number of workers\n",
    "    pool = Pool()\n",
    "    # report the status of the process pool\n",
    "    print(pool)\n",
    "    # report the number of processes in the pool\n",
    "    print(pool._processes)\n",
    "    # report the number of active child processes\n",
    "    children = active_children()\n",
    "    print(len(children))\n"
   ]
  },
  {
   "cell_type": "markdown",
   "id": "92b7e664-25e4-4ce9-9bf8-17a46cc1744c",
   "metadata": {},
   "source": [
    "## 6.multiprocessing module"
   ]
  },
  {
   "cell_type": "code",
   "execution_count": 8,
   "id": "de315a82-9321-49a1-83a3-8bc53953e06c",
   "metadata": {},
   "outputs": [
    {
     "name": "stdout",
     "output_type": "stream",
     "text": [
      "New record added!\n",
      "\n",
      "Name: Sam\n",
      "Score: 10\n",
      "\n",
      "Name: Adam\n",
      "Score: 9\n",
      "\n",
      "Name: Kevin\n",
      "Score: 9\n",
      "\n",
      "Name: Jeff\n",
      "Score: 8\n",
      "\n"
     ]
    }
   ],
   "source": [
    "import multiprocessing\n",
    "\n",
    "def print_records(records):\n",
    "\t\"\"\"\n",
    "\tfunction to print record(tuples) in records(list)\n",
    "\t\"\"\"\n",
    "\tfor record in records:\n",
    "\t\tprint(\"Name: {0}\\nScore: {1}\\n\".format(record[0], record[1]))\n",
    "\n",
    "def insert_record(record, records):\n",
    "\t\"\"\"\n",
    "\tfunction to add a new record to records(list)\n",
    "\t\"\"\"\n",
    "\trecords.append(record)\n",
    "\tprint(\"New record added!\\n\")\n",
    "\n",
    "if __name__ == '__main__':\n",
    "\twith multiprocessing.Manager() as manager:\n",
    "\t\t# creating a list in server process memory\n",
    "\t\trecords = manager.list([('Sam', 10), ('Adam', 9), ('Kevin',9)])\n",
    "\t\t# new record to be inserted in records\n",
    "\t\tnew_record = ('Jeff', 8)\n",
    "\n",
    "\t\t# creating new processes\n",
    "\t\tp1 = multiprocessing.Process(target=insert_record, args=(new_record, records))\n",
    "\t\tp2 = multiprocessing.Process(target=print_records, args=(records,))\n",
    "\n",
    "\t\t# running process p1 to insert new record\n",
    "\t\tp1.start()\n",
    "\t\tp1.join()\n",
    "\n",
    "\t\t# running process p2 to print records\n",
    "\t\tp2.start()\n",
    "\t\tp2.join()\n"
   ]
  }
 ],
 "metadata": {
  "kernelspec": {
   "display_name": "Python 3 (ipykernel)",
   "language": "python",
   "name": "python3"
  },
  "language_info": {
   "codemirror_mode": {
    "name": "ipython",
    "version": 3
   },
   "file_extension": ".py",
   "mimetype": "text/x-python",
   "name": "python",
   "nbconvert_exporter": "python",
   "pygments_lexer": "ipython3",
   "version": "3.10.8"
  }
 },
 "nbformat": 4,
 "nbformat_minor": 5
}
